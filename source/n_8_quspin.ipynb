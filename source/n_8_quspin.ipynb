{
 "cells": [
  {
   "cell_type": "markdown",
   "id": "b6024de5",
   "metadata": {},
   "source": [
    "### Hamiltoniano de Heisenberg com primeiros e segundos vizinhos"
   ]
  },
  {
   "cell_type": "markdown",
   "id": "2a5708ad",
   "metadata": {},
   "source": [
    "$$\n",
    "H = J_1 \\sum_{i=1}^{L} \\vec{S}_i \\cdot \\vec{S}_{i+1} + J_2 \\sum_{i=1}^{L} \\vec{S}_i \\cdot \\vec{S}_{i+2}\n",
    "= \\sum_{i=1}^{L} \\left[ J_1 (S^x_i S^x_{i+1} + S^y_i S^y_{i+1} + S^z_i S^z_{i+1}) \n",
    "+ J_2 (S^x_i S^x_{i+2} + S^y_i S^y_{i+2} + S^z_i S^z_{i+2}) \\right]\n",
    "$$\n"
   ]
  },
  {
   "cell_type": "code",
   "execution_count": 1,
   "id": "594651da",
   "metadata": {},
   "outputs": [],
   "source": [
    "from quspin.operators import hamiltonian  # Hamiltonian and operators\n",
    "from quspin.basis import spin_basis_1d     # 1D spin basis\n",
    "import numpy as np\n",
    "import math"
   ]
  },
  {
   "cell_type": "code",
   "execution_count": 2,
   "id": "ef7521b1",
   "metadata": {},
   "outputs": [],
   "source": [
    "theta   = 10"
   ]
  },
  {
   "cell_type": "code",
   "execution_count": 3,
   "id": "c174e813",
   "metadata": {},
   "outputs": [
    {
     "name": "stdout",
     "output_type": "stream",
     "text": [
      "10 [0.17364817766693033, 0.984807753012208]\n"
     ]
    }
   ],
   "source": [
    "i = theta\n",
    "w = i; \n",
    "rad = math.radians(w); sin = math.sin(rad);cos = math.cos(rad)\n",
    "j1  = sin; j2  = cos; J = [j1,j2]\n",
    "print(w, J)"
   ]
  },
  {
   "cell_type": "code",
   "execution_count": 4,
   "id": "94bc7c9c",
   "metadata": {},
   "outputs": [],
   "source": [
    "L = 8   \n",
    "J1 = J[0]\n",
    "J2 = J[1]\n",
    "bc = \"periodic\"  "
   ]
  },
  {
   "cell_type": "code",
   "execution_count": 5,
   "id": "ac50bb62",
   "metadata": {},
   "outputs": [],
   "source": [
    "basis = spin_basis_1d(L, pauli=True)"
   ]
  },
  {
   "cell_type": "code",
   "execution_count": 6,
   "id": "63b9b6b4",
   "metadata": {},
   "outputs": [],
   "source": [
    "# --- Lista de acoplamentos para primeiros e segundos vizinhos ---\n",
    "J1_ij = [[J1, i, (i+1)%L] for i in range(L)]   # primeiros vizinhos\n",
    "J2_ij = [[J2, i, (i+2)%L] for i in range(L)]   # segundos vizinhos\n",
    "\n",
    "# --- Termos de interação ---\n",
    "static = [\n",
    "    [\"xx\", J1_ij], [\"yy\", J1_ij], [\"zz\", J1_ij],  # primeiros vizinhos\n",
    "    [\"xx\", J2_ij], [\"yy\", J2_ij], [\"zz\", J2_ij],  # segundos vizinhos\n",
    "]"
   ]
  },
  {
   "cell_type": "code",
   "execution_count": 7,
   "id": "f0e73c5b",
   "metadata": {},
   "outputs": [
    {
     "name": "stdout",
     "output_type": "stream",
     "text": [
      "Hermiticity check passed!\n",
      "Symmetry checks passed!\n"
     ]
    }
   ],
   "source": [
    "# --- Constrói o Hamiltoniano ---\n",
    "H = hamiltonian(static, [], basis=basis, dtype=np.float64)"
   ]
  },
  {
   "cell_type": "code",
   "execution_count": 8,
   "id": "b86bb979",
   "metadata": {},
   "outputs": [],
   "source": [
    "# --- Diagonalização exata: encontra o menor autovalor e autovetor ---\n",
    "E0, psi0 = H.eigsh(k=1, which=\"SA\")  # SA = smallest algebraic"
   ]
  },
  {
   "cell_type": "code",
   "execution_count": 9,
   "id": "634883f7",
   "metadata": {},
   "outputs": [
    {
     "name": "stdout",
     "output_type": "stream",
     "text": [
      "Estado fundamental (energia mínima): -15.767620\n"
     ]
    }
   ],
   "source": [
    "print(f\"Estado fundamental (energia mínima): {E0[0]:.6f}\")"
   ]
  },
  {
   "cell_type": "code",
   "execution_count": 10,
   "id": "27d4fdc7",
   "metadata": {},
   "outputs": [
    {
     "data": {
      "text/plain": [
       "array([-15.76761988])"
      ]
     },
     "execution_count": 10,
     "metadata": {},
     "output_type": "execute_result"
    }
   ],
   "source": [
    "E0"
   ]
  },
  {
   "cell_type": "code",
   "execution_count": 11,
   "id": "49f601fb",
   "metadata": {},
   "outputs": [
    {
     "name": "stdout",
     "output_type": "stream",
     "text": [
      "Hermiticity check passed!\n",
      "Symmetry checks passed!\n",
      "Estado fundamental (energia mínima): -6.000000\n"
     ]
    }
   ],
   "source": [
    "from quspin.operators import hamiltonian  # Hamiltonian and operators\n",
    "from quspin.basis import spin_basis_1d    # 1D spin-1/2 basis\n",
    "import numpy as np\n",
    "\n",
    "# --- Parâmetros ---\n",
    "L = 4                 # número de sítios (pequeno pra garantir diagonalização)\n",
    "J1, J2 = 1.0, 0.5     # constantes de acoplamento\n",
    "\n",
    "# --- Base de spins ---\n",
    "basis = spin_basis_1d(L, pauli=True)\n",
    "\n",
    "# --- Interações de 1º e 2º vizinhos com contorno periódico ---\n",
    "J1_ij = [[J1, i, (i+1)%L] for i in range(L)]\n",
    "J2_ij = [[J2, i, (i+2)%L] for i in range(L)]\n",
    "\n",
    "# --- Termos do Hamiltoniano ---\n",
    "static = [\n",
    "    [\"xx\", J1_ij], [\"yy\", J1_ij], [\"zz\", J1_ij],\n",
    "    [\"xx\", J2_ij], [\"yy\", J2_ij], [\"zz\", J2_ij]\n",
    "]\n",
    "\n",
    "# --- Construção do Hamiltoniano ---\n",
    "H = hamiltonian(static, [], basis=basis, dtype=np.float64)\n",
    "\n",
    "# --- Diagonalização exata ---\n",
    "E0, psi0 = H.eigsh(k=1, which=\"SA\")  # menor autovalor\n",
    "\n",
    "# --- Resultado ---\n",
    "print(f\"Estado fundamental (energia mínima): {E0[0]:.6f}\")\n"
   ]
  }
 ],
 "metadata": {
  "kernelspec": {
   "display_name": "Python 3 (ipykernel)",
   "language": "python",
   "name": "python3"
  },
  "language_info": {
   "codemirror_mode": {
    "name": "ipython",
    "version": 3
   },
   "file_extension": ".py",
   "mimetype": "text/x-python",
   "name": "python",
   "nbconvert_exporter": "python",
   "pygments_lexer": "ipython3",
   "version": "3.10.12"
  }
 },
 "nbformat": 4,
 "nbformat_minor": 5
}
